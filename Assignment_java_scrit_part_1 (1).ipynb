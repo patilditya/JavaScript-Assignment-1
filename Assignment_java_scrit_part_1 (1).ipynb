{
  "nbformat": 4,
  "nbformat_minor": 0,
  "metadata": {
    "colab": {
      "provenance": []
    },
    "kernelspec": {
      "name": "python3",
      "display_name": "Python 3"
    },
    "language_info": {
      "name": "python"
    }
  },
  "cells": [
    {
      "cell_type": "code",
      "execution_count": null,
      "metadata": {
        "id": "7zFNiHl9dUH3"
      },
      "outputs": [],
      "source": [
        "# Question 1 : Problem 1 Create a Map in JavaScript and perform the following operations8 Add key-value pairs to the Map0  Check if a specific key exists0 Retrieve the value associated with a given key0 Iterate through all key-value pairs\n",
        "\n",
        "--> const map = new Map();\n",
        "\n",
        "// 1) Add key‑value pairs\n",
        "map.set('apple', 5);\n",
        "map.set('banana', 10);\n",
        "\n",
        "// 2) Check if a key exists\n",
        "console.log(map.has('apple'));   // true\n",
        "console.log(map.has('cherry'));  // false\n",
        "\n",
        "// 3) Retrieve the value by key\n",
        "console.log(map.get('banana'));  // 10\n",
        "\n",
        "// 4) Iterate through key‑value pairs\n",
        "for (const [key, value] of map.entries()) {\n",
        "  console.log(key, value);\n",
        "}\n",
        "// Or directly: for (const [k, v] of map) { ... }\n"
      ]
    },
    {
      "cell_type": "code",
      "source": [
        "# Question 2 : Problem 2 Create a Map to store contact information (name, age, email, location) and implement a function to retrieve contact details by name\n",
        "\n",
        "--> // Contact Map: name → { age, email, location }\n",
        "const contacts = new Map();\n",
        "\n",
        "contacts.set('Alice', {\n",
        "  age: 30,\n",
        "  email: 'alice@example.com',\n",
        "  location: 'Nashik'\n",
        "});\n",
        "contacts.set('Bob', {\n",
        "  age: 25,\n",
        "  email: 'bob@example.com',\n",
        "  location: 'Mumbai'\n",
        "});\n",
        "\n",
        "function getContact(name) {\n",
        "  if (contacts.has(name)) {\n",
        "    return contacts.get(name);\n",
        "  } else {\n",
        "    return null; // or throw an error / return undefined\n",
        "  }\n",
        "}\n",
        "\n",
        "// Usage\n",
        "console.log(getContact('Alice'));\n",
        "// ⇒ { age: 30, email: 'alice@example.com', location: 'Nashik' }\n",
        "console.log(getContact('Eve'));\n",
        "// ⇒ null\n",
        "\n"
      ],
      "metadata": {
        "id": "BG8UfEuSdmSf"
      },
      "execution_count": null,
      "outputs": []
    },
    {
      "cell_type": "code",
      "source": [
        "# Question 3 : Problem 3 You are given an array of numbers named myArray. Create a function that takes any number of arguments and adds them to the existing array. Use the spread and rest operator.\n",
        "\n",
        "--> const myArray = [1, 2, 3];\n",
        "\n",
        "function addToArray(...newItems) {\n",
        "  // Spread existing plus new into a new array,\n",
        "  // or you can push into myArray directly:\n",
        "  newItems.forEach(item => myArray.push(item));\n",
        "  // Alternatively: return [...myArray, ...newItems];\n",
        "}\n",
        "\n",
        "addToArray(4, 5);\n",
        "addToArray(6, 7, 8);\n",
        "\n",
        "console.log(myArray);  // [1, 2, 3, 4, 5, 6, 7, 8]\n"
      ],
      "metadata": {
        "id": "Z3j9PgTUd2zP"
      },
      "execution_count": null,
      "outputs": []
    },
    {
      "cell_type": "code",
      "source": [
        "# Question 4 : Problem 4 Create an object car with properties brand, model, and a method displayDetails that prints \"Brand: [brand], Model: [model]\". Test the method using this keyword.\n",
        "\n",
        "--> const car = {\n",
        "  brand: 'Toyota',\n",
        "  model: 'Corolla',\n",
        "  displayDetails() {\n",
        "    console.log(`Brand: ${this.brand}, Model: ${this.model}`);\n",
        "  }\n",
        "};\n",
        "\n",
        "car.displayDetails();\n",
        "// ⇒ Brand: Toyota, Model: Corolla\n"
      ],
      "metadata": {
        "id": "baIfZ6tKeB1v"
      },
      "execution_count": null,
      "outputs": []
    },
    {
      "cell_type": "code",
      "source": [
        "# Question 5 : Problem 5 Create two objects person1 and person2 with properties name and age. Create a function “introduce” that prints \"Hello, I'm [name], and I'm [age] years old.\" Use the call method to make person2 introduce itself using the introduce function.\n",
        "\n",
        "--> const person1 = { name: 'Alice', age: 30 };\n",
        "const person2 = { name: 'Bob',   age: 25 };\n",
        "\n",
        "function introduce() {\n",
        "  console.log(`Hello, I'm ${this.name}, and I'm ${this.age} years old.`);\n",
        "}\n",
        "\n",
        "introduce.call(person1);\n",
        "// ⇒ Hello, I'm Alice, and I'm 30 years old.\n",
        "introduce.call(person2);\n",
        "// ⇒ Hello, I'm Bob, and I'm 25 years old.\n"
      ],
      "metadata": {
        "id": "ZhntTceceQJ3"
      },
      "execution_count": null,
      "outputs": []
    }
  ]
}